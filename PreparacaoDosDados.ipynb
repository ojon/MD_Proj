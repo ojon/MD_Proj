{
 "metadata": {
  "name": "",
  "signature": "sha256:3d7621dbd1c211c81aa8611c8674de5843208aefcdaef629390f20ff54a0e02c"
 },
 "nbformat": 3,
 "nbformat_minor": 0,
 "worksheets": [
  {
   "cells": [
    {
     "cell_type": "code",
     "collapsed": false,
     "input": [
      "import numpy as np\n",
      "import csv\n",
      "from itertools import izip"
     ],
     "language": "python",
     "metadata": {},
     "outputs": [],
     "prompt_number": 1
    },
    {
     "cell_type": "markdown",
     "metadata": {},
     "source": [
      "##Juntando dados de treinamento com labels das classes\n"
     ]
    },
    {
     "cell_type": "markdown",
     "metadata": {},
     "source": [
      "pulando a primeira linha do arquivo original e fazendo uma copia"
     ]
    },
    {
     "cell_type": "code",
     "collapsed": true,
     "input": [
      "dadosTreinamentoOriginal = csv.reader(open('./pp5i_train.gr.csv','rb'));\n",
      "dadosTreinamentoL_file =  open(\"./dadosTreinamentoL.csv\", \"wb\")\n",
      "\n",
      "#pulando a primeira linha\n",
      "dadosTreinamentoOriginal.next();\n",
      "\n",
      "csv.writer(dadosTreinamentoL_file).writerows(dadosTreinamentoOriginal)\n",
      "dadosTreinamentoL_file.close()"
     ],
     "language": "python",
     "metadata": {},
     "outputs": [],
     "prompt_number": 13
    },
    {
     "cell_type": "markdown",
     "metadata": {},
     "source": [
      "Agora lemos o arquivo com as classes e escrevemos os labels das classes como a ultima linha do arquivo que contem os dados de treinamento e depois transpomos o arquivo."
     ]
    },
    {
     "cell_type": "code",
     "collapsed": false,
     "input": [
      "classes = izip(*csv.reader(open(\"./pp5i_train_class.txt\",\"rb\")))\n",
      "trainLfile = open(\"./dadosTreinamentoL.csv\",\"a\")\n",
      "csv.writer(trainLfile).writerows(classes)\n",
      "trainLfile.close()\n",
      "\n",
      "a = izip(*csv.reader(open(\"./dadosTreinamentoL.csv\", \"rb\")))\n",
      "csv.writer(open(\"./dadosTreinamentoClasses.csv\", \"wb\")).writerows(a)"
     ],
     "language": "python",
     "metadata": {},
     "outputs": [],
     "prompt_number": 14
    },
    {
     "cell_type": "code",
     "collapsed": false,
     "input": [],
     "language": "python",
     "metadata": {},
     "outputs": []
    }
   ],
   "metadata": {}
  }
 ]
}