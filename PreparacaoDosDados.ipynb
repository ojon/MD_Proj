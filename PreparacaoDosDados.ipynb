{
 "metadata": {
  "name": "",
  "signature": "sha256:5b2141e0480d316daee67d5593fe0bf1d564309fcf92ab031b34e32cec3ae50b"
 },
 "nbformat": 3,
 "nbformat_minor": 0,
 "worksheets": [
  {
   "cells": [
    {
     "cell_type": "code",
     "collapsed": false,
     "input": [
      "import numpy as np\n",
      "import pandas as pd\n",
      "import csv\n",
      "from itertools import izip"
     ],
     "language": "python",
     "metadata": {},
     "outputs": [],
     "prompt_number": 1
    },
    {
     "cell_type": "markdown",
     "metadata": {},
     "source": [
      "##Juntando dados de treinamento com labels das classes\n"
     ]
    },
    {
     "cell_type": "markdown",
     "metadata": {},
     "source": [
      "pulando a primeira linha do arquivo original e fazendo uma copia"
     ]
    },
    {
     "cell_type": "code",
     "collapsed": true,
     "input": [
      "dadosTreinamentoOriginal = csv.reader(open('./pp5i_train.gr.csv','rb'));\n",
      "dadosTreinamentoL_file =  open(\"./dadosTreinamentoL.csv\", \"wb\")\n",
      "\n",
      "#pulando a primeira linha\n",
      "dadosTreinamentoOriginal.next();\n",
      "\n",
      "csv.writer(dadosTreinamentoL_file).writerows(dadosTreinamentoOriginal)\n",
      "dadosTreinamentoL_file.close()"
     ],
     "language": "python",
     "metadata": {},
     "outputs": [],
     "prompt_number": 2
    },
    {
     "cell_type": "markdown",
     "metadata": {},
     "source": [
      "Agora lemos o arquivo com as classes e escrevemos os labels das classes como a ultima linha do arquivo que contem os dados de treinamento e depois transpomos o arquivo."
     ]
    },
    {
     "cell_type": "code",
     "collapsed": false,
     "input": [
      "classes = izip(*csv.reader(open(\"./pp5i_train_class.txt\",\"rb\")))\n",
      "trainLfile = open(\"./dadosTreinamentoL.csv\",\"a\")\n",
      "csv.writer(trainLfile).writerows(classes)\n",
      "trainLfile.close()\n",
      "\n",
      "a = izip(*csv.reader(open(\"./dadosTreinamentoL.csv\", \"rb\")))\n",
      "csv.writer(open(\"./train.csv\", \"wb\")).writerows(a)"
     ],
     "language": "python",
     "metadata": {},
     "outputs": [],
     "prompt_number": 3
    },
    {
     "cell_type": "markdown",
     "metadata": {},
     "source": [
      "Embaralhamos as linhas"
     ]
    },
    {
     "cell_type": "code",
     "collapsed": false,
     "input": [
      "df = pd.read_csv('./train.csv');"
     ],
     "language": "python",
     "metadata": {},
     "outputs": [],
     "prompt_number": 4
    },
    {
     "cell_type": "code",
     "collapsed": false,
     "input": [
      "df2 = df.reindex(np.random.permutation(df.index))\n",
      "df2.to_csv('trainSort.csv', index=False)"
     ],
     "language": "python",
     "metadata": {},
     "outputs": []
    }
   ],
   "metadata": {}
  }
 ]
}