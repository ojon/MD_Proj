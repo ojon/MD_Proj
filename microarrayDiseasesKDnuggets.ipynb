{
 "cells": [
  {
   "cell_type": "markdown",
   "metadata": {
    "colab_type": "text",
    "id": "csm1jgd6J_Uq"
   },
   "source": [
    " # Predict disease classes using genetic microarray data\n",
    " \n",
    " > João Oda"
   ]
  },
  {
   "cell_type": "markdown",
   "metadata": {
    "colab_type": "text",
    "id": "XOAvg0JlA3ZA"
   },
   "source": [
    "## Intro\n",
    "\n",
    "A gene contains the information necessary to synthetize a protein. When the correspondent protein is being produced with in the cell, we say that gene is active. The activation level of the gene, i.e. the amount of correspondent protein that is being synthetize is also called the amount of expression of that gene. \n",
    "\n",
    "The gene expression can be measure using techniques like [microarray](https://en.wikipedia.org/wiki/DNA_microarray) and [RNA-Seq](https://en.wikipedia.org/wiki/RNA-Seq), these informations leads to a profile that can be used to indentifies cell types and states.\n",
    "\n",
    "In this project we are going to use data mining techiques to look at microarray data, where we have expresion information of 7070 genes and classify cell types/states among  5 classes, labelled EPD, JPA, MED, MGL, RHB. \n",
    "\n",
    "This project, originally from [kdnuggets](https://www.kdnuggets.com/data_mining_course/assignments/final-project.html), was presented to me in a data mining course at the university. This is a version whose implementation is performed completely in Python, using the [pandas](https://pandas.pydata.org/) and [scikit-learn](http://scikit-learn.org/stable/) library.\n"
   ]
  },
  {
   "cell_type": "markdown",
   "metadata": {
    "colab_type": "text",
    "id": "B3R4-oduzNIN"
   },
   "source": [
    "## Dependencies"
   ]
  },
  {
   "cell_type": "code",
   "execution_count": 0,
   "metadata": {
    "colab": {},
    "colab_type": "code",
    "id": "K2mFnxO_J_Uu"
   },
   "outputs": [],
   "source": [
    "import pandas as pd\n",
    "import numpy as np\n",
    "\n",
    "from sklearn.base import BaseEstimator, TransformerMixin\n",
    "from sklearn.utils.validation import check_X_y, check_array, check_is_fitted\n",
    "from sklearn.utils.multiclass import unique_labels\n",
    "import scipy.stats as st\n",
    "\n",
    "from sklearn import tree\n",
    "from sklearn import naive_bayes\n",
    "from sklearn.neural_network import MLPClassifier\n",
    "from sklearn.neighbors import KNeighborsClassifier\n",
    "from sklearn.pipeline import Pipeline\n",
    "from sklearn.model_selection import GridSearchCV\n",
    "from sklearn.model_selection import cross_val_score\n",
    "from sklearn.model_selection import KFold\n",
    "from tempfile import mkdtemp"
   ]
  },
  {
   "cell_type": "markdown",
   "metadata": {
    "colab_type": "text",
    "id": "ub8ICR-WJ_VA"
   },
   "source": [
    "## Data"
   ]
  },
  {
   "cell_type": "markdown",
   "metadata": {
    "colab_type": "text",
    "id": "ZPjtvmT5J_VE"
   },
   "source": [
    "Reading and formating the training data."
   ]
  },
  {
   "cell_type": "code",
   "execution_count": 0,
   "metadata": {
    "colab": {},
    "colab_type": "code",
    "id": "JikBbBkmJ_VG"
   },
   "outputs": [],
   "source": [
    "df = pd.read_csv('https://raw.githubusercontent.com/ojon/MD_Proj/master/pp5i_train.gr.csv')\n",
    "df.set_index('SNO', inplace=True)\n",
    "df = df.transpose()\n",
    "df.reset_index(drop=True, inplace=True)"
   ]
  },
  {
   "cell_type": "code",
   "execution_count": 0,
   "metadata": {
    "colab": {},
    "colab_type": "code",
    "id": "h-1QYBkF9q1b"
   },
   "outputs": [],
   "source": [
    "y = pd.read_csv('https://raw.githubusercontent.com/ojon/MD_Proj/master/pp5i_train_class.txt')\n",
    "df = pd.concat([df, y], axis=1)"
   ]
  },
  {
   "cell_type": "code",
   "execution_count": 0,
   "metadata": {
    "colab": {},
    "colab_type": "code",
    "id": "RDr7JnZIJ_VP"
   },
   "outputs": [],
   "source": [
    "myRandomSeed = 72\n",
    "df = df.sample(frac=1,random_state=myRandomSeed).reset_index(drop=True)"
   ]
  },
  {
   "cell_type": "code",
   "execution_count": 5,
   "metadata": {
    "colab": {
     "base_uri": "https://localhost:8080/",
     "height": 35
    },
    "colab_type": "code",
    "id": "eywP9Y8CNLRS",
    "outputId": "bacdb2d8-9614-4edd-d532-7856f287203b"
   },
   "outputs": [
    {
     "data": {
      "text/plain": [
       "(69, 7071)"
      ]
     },
     "execution_count": 5,
     "metadata": {
      "tags": []
     },
     "output_type": "execute_result"
    }
   ],
   "source": [
    "df.shape"
   ]
  },
  {
   "cell_type": "code",
   "execution_count": 6,
   "metadata": {
    "colab": {
     "base_uri": "https://localhost:8080/",
     "height": 253
    },
    "colab_type": "code",
    "id": "608dYL26QjYz",
    "outputId": "a14187ff-43ac-44b0-d6f2-0f178912d1b7"
   },
   "outputs": [
    {
     "data": {
      "text/html": [
       "<div>\n",
       "<style scoped>\n",
       "    .dataframe tbody tr th:only-of-type {\n",
       "        vertical-align: middle;\n",
       "    }\n",
       "\n",
       "    .dataframe tbody tr th {\n",
       "        vertical-align: top;\n",
       "    }\n",
       "\n",
       "    .dataframe thead th {\n",
       "        text-align: right;\n",
       "    }\n",
       "</style>\n",
       "<table border=\"1\" class=\"dataframe\">\n",
       "  <thead>\n",
       "    <tr style=\"text-align: right;\">\n",
       "      <th></th>\n",
       "      <th>A28102_at</th>\n",
       "      <th>AB000114_at</th>\n",
       "      <th>AB000115_at</th>\n",
       "      <th>AB000220_at</th>\n",
       "      <th>AB000409_at</th>\n",
       "      <th>AB000449_at</th>\n",
       "      <th>AB000450_at</th>\n",
       "      <th>AB000460_at</th>\n",
       "      <th>AB000462_at</th>\n",
       "      <th>AB000464_at</th>\n",
       "      <th>...</th>\n",
       "      <th>U58516_at</th>\n",
       "      <th>U73738_at</th>\n",
       "      <th>X06956_at</th>\n",
       "      <th>X16699_at</th>\n",
       "      <th>X83863_at</th>\n",
       "      <th>Z17240_at</th>\n",
       "      <th>L49218_f_at</th>\n",
       "      <th>M71243_f_at</th>\n",
       "      <th>Z78285_f_at</th>\n",
       "      <th>Class</th>\n",
       "    </tr>\n",
       "  </thead>\n",
       "  <tbody>\n",
       "    <tr>\n",
       "      <th>0</th>\n",
       "      <td>26</td>\n",
       "      <td>26</td>\n",
       "      <td>14</td>\n",
       "      <td>85</td>\n",
       "      <td>161</td>\n",
       "      <td>34</td>\n",
       "      <td>-9</td>\n",
       "      <td>206</td>\n",
       "      <td>34</td>\n",
       "      <td>140</td>\n",
       "      <td>...</td>\n",
       "      <td>138</td>\n",
       "      <td>1</td>\n",
       "      <td>29</td>\n",
       "      <td>1</td>\n",
       "      <td>153</td>\n",
       "      <td>42</td>\n",
       "      <td>7</td>\n",
       "      <td>26</td>\n",
       "      <td>-2</td>\n",
       "      <td>MED</td>\n",
       "    </tr>\n",
       "    <tr>\n",
       "      <th>1</th>\n",
       "      <td>23</td>\n",
       "      <td>24</td>\n",
       "      <td>9</td>\n",
       "      <td>174</td>\n",
       "      <td>197</td>\n",
       "      <td>3</td>\n",
       "      <td>-11</td>\n",
       "      <td>194</td>\n",
       "      <td>94</td>\n",
       "      <td>197</td>\n",
       "      <td>...</td>\n",
       "      <td>180</td>\n",
       "      <td>-1</td>\n",
       "      <td>9</td>\n",
       "      <td>-2</td>\n",
       "      <td>91</td>\n",
       "      <td>23</td>\n",
       "      <td>-4</td>\n",
       "      <td>35</td>\n",
       "      <td>-4</td>\n",
       "      <td>MED</td>\n",
       "    </tr>\n",
       "    <tr>\n",
       "      <th>2</th>\n",
       "      <td>11</td>\n",
       "      <td>54</td>\n",
       "      <td>5</td>\n",
       "      <td>22</td>\n",
       "      <td>180</td>\n",
       "      <td>26</td>\n",
       "      <td>-46</td>\n",
       "      <td>448</td>\n",
       "      <td>109</td>\n",
       "      <td>331</td>\n",
       "      <td>...</td>\n",
       "      <td>51</td>\n",
       "      <td>6</td>\n",
       "      <td>-25</td>\n",
       "      <td>3</td>\n",
       "      <td>747</td>\n",
       "      <td>41</td>\n",
       "      <td>-8</td>\n",
       "      <td>28</td>\n",
       "      <td>15</td>\n",
       "      <td>MED</td>\n",
       "    </tr>\n",
       "    <tr>\n",
       "      <th>3</th>\n",
       "      <td>35</td>\n",
       "      <td>27</td>\n",
       "      <td>19</td>\n",
       "      <td>33</td>\n",
       "      <td>179</td>\n",
       "      <td>57</td>\n",
       "      <td>10</td>\n",
       "      <td>235</td>\n",
       "      <td>52</td>\n",
       "      <td>141</td>\n",
       "      <td>...</td>\n",
       "      <td>112</td>\n",
       "      <td>-14</td>\n",
       "      <td>8</td>\n",
       "      <td>-11</td>\n",
       "      <td>90</td>\n",
       "      <td>42</td>\n",
       "      <td>-7</td>\n",
       "      <td>36</td>\n",
       "      <td>-20</td>\n",
       "      <td>RHB</td>\n",
       "    </tr>\n",
       "    <tr>\n",
       "      <th>4</th>\n",
       "      <td>68</td>\n",
       "      <td>21</td>\n",
       "      <td>35</td>\n",
       "      <td>30</td>\n",
       "      <td>131</td>\n",
       "      <td>8</td>\n",
       "      <td>22</td>\n",
       "      <td>140</td>\n",
       "      <td>37</td>\n",
       "      <td>81</td>\n",
       "      <td>...</td>\n",
       "      <td>364</td>\n",
       "      <td>-1</td>\n",
       "      <td>34</td>\n",
       "      <td>0</td>\n",
       "      <td>297</td>\n",
       "      <td>39</td>\n",
       "      <td>1</td>\n",
       "      <td>27</td>\n",
       "      <td>-1</td>\n",
       "      <td>JPA</td>\n",
       "    </tr>\n",
       "  </tbody>\n",
       "</table>\n",
       "<p>5 rows × 7071 columns</p>\n",
       "</div>"
      ],
      "text/plain": [
       "   A28102_at  AB000114_at  AB000115_at  AB000220_at  AB000409_at  AB000449_at  \\\n",
       "0         26           26           14           85          161           34   \n",
       "1         23           24            9          174          197            3   \n",
       "2         11           54            5           22          180           26   \n",
       "3         35           27           19           33          179           57   \n",
       "4         68           21           35           30          131            8   \n",
       "\n",
       "   AB000450_at  AB000460_at  AB000462_at  AB000464_at  ...    U58516_at  \\\n",
       "0           -9          206           34          140  ...          138   \n",
       "1          -11          194           94          197  ...          180   \n",
       "2          -46          448          109          331  ...           51   \n",
       "3           10          235           52          141  ...          112   \n",
       "4           22          140           37           81  ...          364   \n",
       "\n",
       "   U73738_at  X06956_at  X16699_at  X83863_at  Z17240_at  L49218_f_at  \\\n",
       "0          1         29          1        153         42            7   \n",
       "1         -1          9         -2         91         23           -4   \n",
       "2          6        -25          3        747         41           -8   \n",
       "3        -14          8        -11         90         42           -7   \n",
       "4         -1         34          0        297         39            1   \n",
       "\n",
       "   M71243_f_at  Z78285_f_at  Class  \n",
       "0           26           -2    MED  \n",
       "1           35           -4    MED  \n",
       "2           28           15    MED  \n",
       "3           36          -20    RHB  \n",
       "4           27           -1    JPA  \n",
       "\n",
       "[5 rows x 7071 columns]"
      ]
     },
     "execution_count": 6,
     "metadata": {
      "tags": []
     },
     "output_type": "execute_result"
    }
   ],
   "source": [
    "df.head()"
   ]
  },
  {
   "cell_type": "code",
   "execution_count": 0,
   "metadata": {
    "colab": {},
    "colab_type": "code",
    "id": "H7W4hP3GQtKT"
   },
   "outputs": [],
   "source": [
    "X = df.drop('Class',axis=1)"
   ]
  },
  {
   "cell_type": "code",
   "execution_count": 0,
   "metadata": {
    "colab": {},
    "colab_type": "code",
    "id": "5FtQDDIy-5o0"
   },
   "outputs": [],
   "source": [
    "y = df['Class']"
   ]
  },
  {
   "cell_type": "markdown",
   "metadata": {
    "colab_type": "text",
    "id": "DgKqiBp5J_VZ"
   },
   "source": [
    "## Data Cleaning"
   ]
  },
  {
   "cell_type": "markdown",
   "metadata": {
    "colab_type": "text",
    "id": "JGztyxLYJ_Vb"
   },
   "source": [
    "Threshold both train and test data to a minimum value of 20, maximum of 16,000."
   ]
  },
  {
   "cell_type": "code",
   "execution_count": 0,
   "metadata": {
    "colab": {},
    "colab_type": "code",
    "id": "OONWa96oJ_Ve"
   },
   "outputs": [],
   "source": [
    "X.clip(upper=16000, lower=20, inplace=True)"
   ]
  },
  {
   "cell_type": "markdown",
   "metadata": {
    "colab_type": "text",
    "id": "KigmGQKyJ_Vn"
   },
   "source": [
    "Remove from train data genes with fold differences across samples less or equal than 2."
   ]
  },
  {
   "cell_type": "code",
   "execution_count": 10,
   "metadata": {
    "colab": {
     "base_uri": "https://localhost:8080/",
     "height": 35
    },
    "colab_type": "code",
    "id": "nFaccASvJ_Vr",
    "outputId": "2a7d62e7-8ac4-4b55-e0bf-b59157c68be3"
   },
   "outputs": [
    {
     "data": {
      "text/plain": [
       "(69, 7070)"
      ]
     },
     "execution_count": 10,
     "metadata": {
      "tags": []
     },
     "output_type": "execute_result"
    }
   ],
   "source": [
    "X.shape"
   ]
  },
  {
   "cell_type": "code",
   "execution_count": 0,
   "metadata": {
    "colab": {},
    "colab_type": "code",
    "id": "1hpxrBKVJ_V8"
   },
   "outputs": [],
   "source": [
    "X = X.loc[:,X.max() - X.min() > 2]"
   ]
  },
  {
   "cell_type": "code",
   "execution_count": 12,
   "metadata": {
    "colab": {
     "base_uri": "https://localhost:8080/",
     "height": 35
    },
    "colab_type": "code",
    "id": "CPH8p7-dJ_WF",
    "outputId": "e7dad6c3-321b-40e2-9ac2-93e67865d75e"
   },
   "outputs": [
    {
     "data": {
      "text/plain": [
       "(69, 6746)"
      ]
     },
     "execution_count": 12,
     "metadata": {
      "tags": []
     },
     "output_type": "execute_result"
    }
   ],
   "source": [
    "X.shape"
   ]
  },
  {
   "cell_type": "markdown",
   "metadata": {
    "colab_type": "text",
    "id": "itaC9TnjJ_WR"
   },
   "source": [
    "## Feature Selection \n",
    "\n",
    "For feature seletion we perform a t-test for each class among the samples of that class and  the samples in other remaining classes. For each class the genes with highest absolte t-values are selected.  We calculate the t-values as:\n",
    "\n",
    "$$t = \\frac{\\bar{X_1} + \\bar{X_2}}{\\sqrt{\\frac{s_1^2}{n_1} +\\frac{s_2^2}{n_2}}}$$\n",
    "\n",
    "The so called Welch's t-test. Used when the two population variances are not assumed to be equal.\n",
    "\n"
   ]
  },
  {
   "cell_type": "markdown",
   "metadata": {
    "colab_type": "text",
    "id": "Hf48nulZ1f3L"
   },
   "source": [
    "### T-test transformer\n",
    "\n",
    "A transformer implemented in a way to be compatible with [sklearn.pipelines](http://scikit-learn.org/stable/modules/generated/sklearn.pipeline.Pipeline.html). It does the selection of features using tscores, selecting the top **w** features with highest t-scores for each class. The implementation of the [t-test from \n",
    "scypy library]() is used.\n",
    "\n"
   ]
  },
  {
   "cell_type": "code",
   "execution_count": 0,
   "metadata": {
    "colab": {},
    "colab_type": "code",
    "id": "b6HNY-taPBmw"
   },
   "outputs": [],
   "source": [
    "\n",
    "\n",
    "class TtestScoreSelection(BaseEstimator, TransformerMixin):\n",
    "    def __init__(self, w=3):\n",
    "        self.w = w\n",
    "\n",
    "    def fit(self, X, y=None):\n",
    "        X = check_array(X)\n",
    "        self.input_shape_ = X.shape\n",
    "\n",
    "        # Check that X and y have correct shape\n",
    "        X, y = check_X_y(X, y)\n",
    "\n",
    "        # Store the classes seen during fit\n",
    "        self.labels_ = unique_labels(y)\n",
    "        self.tValuesDF = pd.DataFrame(columns=self.labels_)\n",
    "        self.sortedIndexes = pd.DataFrame(columns=self.labels_)\n",
    "\n",
    "        for label in self.labels_:\n",
    "            sample1 = X[y == label]\n",
    "            sample2 = X[y != label]\n",
    "            # In canse of both samples have variance 0 I put some arbitrary values on sample 1\n",
    "            zeroVarBothColsIdx = (np.var(sample1,axis=0) + np.var(sample2,axis=0)) == 0\n",
    "            sample1[:, zeroVarBothColsIdx] = 10e6 \n",
    "            sample1[0, zeroVarBothColsIdx] = 1\n",
    "            #perform the t test\n",
    "            t = st.ttest_ind(sample1, sample2, equal_var=False)\n",
    "            # I set t-values to 0 for the columns where both samples had 0 variance\n",
    "            t[0][zeroVarBothColsIdx] = 0\n",
    "            self.tValuesDF[label] = np.abs(t[0])\n",
    "            self.sortedIndexes[label] = self.tValuesDF.sort_values(by=label,\n",
    "                                                                   ascending=False).index\n",
    "\n",
    "        # Return the transformer\n",
    "        return self\n",
    "\n",
    "    def transform(self, X):\n",
    "        # Check is fit had been called\n",
    "        check_is_fitted(self, ['input_shape_'])\n",
    "\n",
    "        # Input validation\n",
    "        X = check_array(X)\n",
    "\n",
    "        # union of indexes from the top w columns for each label\n",
    "        self.selCols = np.unique(self.sortedIndexes[:][0:self.w].values.flatten())\n",
    "\n",
    "        return X[:, self.selCols]"
   ]
  },
  {
   "cell_type": "markdown",
   "metadata": {
    "colab_type": "text",
    "id": "GqTBvGUQ24W3"
   },
   "source": [
    "## Model Selection\n",
    "\n",
    "We evaluate a set of classifiers and hyperparameters:"
   ]
  },
  {
   "cell_type": "code",
   "execution_count": 0,
   "metadata": {
    "colab": {},
    "colab_type": "code",
    "id": "Thcsp4zDJ_Wd"
   },
   "outputs": [],
   "source": [
    "cachedir = mkdtemp()"
   ]
  },
  {
   "cell_type": "code",
   "execution_count": 0,
   "metadata": {
    "colab": {},
    "colab_type": "code",
    "id": "9al4USrnJ_Wl"
   },
   "outputs": [],
   "source": [
    "pipe = Pipeline([('featureSelection', TtestScoreSelection(w=10)),\n",
    "                 ('classify', KNeighborsClassifier(n_neighbors=1))],\n",
    "                memory=cachedir)\n",
    "\n",
    "N_GENES = [20,4,6,8,10,12,15,20,25,30]\n",
    "N_LAYERS = [(32,),(64,),(128,)]\n",
    "\n",
    "tuned_parameters = [\n",
    "                    {'featureSelection__w': N_GENES,\n",
    "                     'classify': [KNeighborsClassifier()],\n",
    "                     'classify__n_neighbors': [1,3,5,7] \n",
    "                    },                    \n",
    "                    {'featureSelection__w': N_GENES,\n",
    "                     'classify': [tree.DecisionTreeClassifier()],\n",
    "                     'classify__criterion':['gini','entropy'],\n",
    "                     'classify__min_samples_leaf': [1,3,5],\n",
    "                     'classify__max_depth': [3,6,9],\n",
    "                     'classify__presort': [True]\n",
    "                    },\n",
    "                    {'featureSelection__w': N_GENES,\n",
    "                     'classify': [MLPClassifier()],\n",
    "                     'classify__hidden_layer_sizes': N_LAYERS,\n",
    "                     'classify__activation': ['logistic'],\n",
    "                     'classify__alpha':[0.05, 0.01, 0.005, 0.001],                      \n",
    "                     'classify__max_iter':[1000],\n",
    "                     'classify__solver': ['lbfgs'],\n",
    "                     'classify__verbose': [True]                                    \n",
    "                    },\n",
    "                    {'featureSelection__w': N_GENES,\n",
    "                    'classify': [naive_bayes.GaussianNB()]\n",
    "                    }\n",
    "                   ]\n",
    "kfolds = KFold(n_splits=5, shuffle=True, random_state=myRandomSeed)\n",
    "model = GridSearchCV(pipe, tuned_parameters, cv=kfolds, return_train_score=True)"
   ]
  },
  {
   "cell_type": "markdown",
   "metadata": {
    "colab_type": "text",
    "id": "sKqgzrnbdBZ9"
   },
   "source": [
    "The process of feature selection and the model training are done both using cross-validation, in order to avoid data leakage."
   ]
  },
  {
   "cell_type": "code",
   "execution_count": 0,
   "metadata": {
    "colab": {},
    "colab_type": "code",
    "id": "8fyzVZClhWej"
   },
   "outputs": [],
   "source": [
    "model.fit(X,y)\n",
    "results = pd.DataFrame(model.cv_results_)"
   ]
  },
  {
   "cell_type": "code",
   "execution_count": 17,
   "metadata": {
    "colab": {
     "base_uri": "https://localhost:8080/",
     "height": 338
    },
    "colab_type": "code",
    "id": "lHiud_Tvjpuz",
    "outputId": "db10286b-c893-4c85-fa4e-671041581a91"
   },
   "outputs": [
    {
     "data": {
      "text/html": [
       "<div>\n",
       "<style scoped>\n",
       "    .dataframe tbody tr th:only-of-type {\n",
       "        vertical-align: middle;\n",
       "    }\n",
       "\n",
       "    .dataframe tbody tr th {\n",
       "        vertical-align: top;\n",
       "    }\n",
       "\n",
       "    .dataframe thead th {\n",
       "        text-align: right;\n",
       "    }\n",
       "</style>\n",
       "<table border=\"1\" class=\"dataframe\">\n",
       "  <thead>\n",
       "    <tr style=\"text-align: right;\">\n",
       "      <th></th>\n",
       "      <th>mean_fit_time</th>\n",
       "      <th>mean_score_time</th>\n",
       "      <th>mean_test_score</th>\n",
       "      <th>mean_train_score</th>\n",
       "      <th>param_classify</th>\n",
       "      <th>param_classify__activation</th>\n",
       "      <th>param_classify__alpha</th>\n",
       "      <th>param_classify__criterion</th>\n",
       "      <th>param_classify__hidden_layer_sizes</th>\n",
       "      <th>param_classify__max_depth</th>\n",
       "      <th>...</th>\n",
       "      <th>split2_test_score</th>\n",
       "      <th>split2_train_score</th>\n",
       "      <th>split3_test_score</th>\n",
       "      <th>split3_train_score</th>\n",
       "      <th>split4_test_score</th>\n",
       "      <th>split4_train_score</th>\n",
       "      <th>std_fit_time</th>\n",
       "      <th>std_score_time</th>\n",
       "      <th>std_test_score</th>\n",
       "      <th>std_train_score</th>\n",
       "    </tr>\n",
       "  </thead>\n",
       "  <tbody>\n",
       "    <tr>\n",
       "      <th>246</th>\n",
       "      <td>1.839278</td>\n",
       "      <td>0.001893</td>\n",
       "      <td>0.942029</td>\n",
       "      <td>1.000000</td>\n",
       "      <td>MLPClassifier(activation='logistic', alpha=0.0...</td>\n",
       "      <td>logistic</td>\n",
       "      <td>0.05</td>\n",
       "      <td>NaN</td>\n",
       "      <td>(128,)</td>\n",
       "      <td>NaN</td>\n",
       "      <td>...</td>\n",
       "      <td>0.928571</td>\n",
       "      <td>1.000000</td>\n",
       "      <td>0.928571</td>\n",
       "      <td>1.000000</td>\n",
       "      <td>1.0</td>\n",
       "      <td>1.000000</td>\n",
       "      <td>0.040034</td>\n",
       "      <td>0.000047</td>\n",
       "      <td>0.05339</td>\n",
       "      <td>0.000000</td>\n",
       "    </tr>\n",
       "    <tr>\n",
       "      <th>12</th>\n",
       "      <td>0.071554</td>\n",
       "      <td>0.001438</td>\n",
       "      <td>0.927536</td>\n",
       "      <td>0.978312</td>\n",
       "      <td>KNeighborsClassifier(algorithm='auto', leaf_si...</td>\n",
       "      <td>NaN</td>\n",
       "      <td>NaN</td>\n",
       "      <td>NaN</td>\n",
       "      <td>NaN</td>\n",
       "      <td>NaN</td>\n",
       "      <td>...</td>\n",
       "      <td>0.928571</td>\n",
       "      <td>0.981818</td>\n",
       "      <td>0.928571</td>\n",
       "      <td>0.981818</td>\n",
       "      <td>1.0</td>\n",
       "      <td>0.964286</td>\n",
       "      <td>0.000992</td>\n",
       "      <td>0.000045</td>\n",
       "      <td>0.04467</td>\n",
       "      <td>0.007013</td>\n",
       "    </tr>\n",
       "    <tr>\n",
       "      <th>26</th>\n",
       "      <td>0.070669</td>\n",
       "      <td>0.001475</td>\n",
       "      <td>0.927536</td>\n",
       "      <td>0.978247</td>\n",
       "      <td>KNeighborsClassifier(algorithm='auto', leaf_si...</td>\n",
       "      <td>NaN</td>\n",
       "      <td>NaN</td>\n",
       "      <td>NaN</td>\n",
       "      <td>NaN</td>\n",
       "      <td>NaN</td>\n",
       "      <td>...</td>\n",
       "      <td>0.928571</td>\n",
       "      <td>0.981818</td>\n",
       "      <td>0.928571</td>\n",
       "      <td>0.981818</td>\n",
       "      <td>1.0</td>\n",
       "      <td>0.982143</td>\n",
       "      <td>0.000956</td>\n",
       "      <td>0.000058</td>\n",
       "      <td>0.04467</td>\n",
       "      <td>0.007306</td>\n",
       "    </tr>\n",
       "    <tr>\n",
       "      <th>25</th>\n",
       "      <td>0.070634</td>\n",
       "      <td>0.001356</td>\n",
       "      <td>0.927536</td>\n",
       "      <td>0.981883</td>\n",
       "      <td>KNeighborsClassifier(algorithm='auto', leaf_si...</td>\n",
       "      <td>NaN</td>\n",
       "      <td>NaN</td>\n",
       "      <td>NaN</td>\n",
       "      <td>NaN</td>\n",
       "      <td>NaN</td>\n",
       "      <td>...</td>\n",
       "      <td>0.928571</td>\n",
       "      <td>0.981818</td>\n",
       "      <td>0.928571</td>\n",
       "      <td>1.000000</td>\n",
       "      <td>1.0</td>\n",
       "      <td>0.982143</td>\n",
       "      <td>0.000760</td>\n",
       "      <td>0.000020</td>\n",
       "      <td>0.04467</td>\n",
       "      <td>0.011500</td>\n",
       "    </tr>\n",
       "    <tr>\n",
       "      <th>261</th>\n",
       "      <td>0.638752</td>\n",
       "      <td>0.001593</td>\n",
       "      <td>0.927536</td>\n",
       "      <td>1.000000</td>\n",
       "      <td>MLPClassifier(activation='logistic', alpha=0.0...</td>\n",
       "      <td>logistic</td>\n",
       "      <td>0.01</td>\n",
       "      <td>NaN</td>\n",
       "      <td>(64,)</td>\n",
       "      <td>NaN</td>\n",
       "      <td>...</td>\n",
       "      <td>0.928571</td>\n",
       "      <td>1.000000</td>\n",
       "      <td>0.928571</td>\n",
       "      <td>1.000000</td>\n",
       "      <td>1.0</td>\n",
       "      <td>1.000000</td>\n",
       "      <td>0.012281</td>\n",
       "      <td>0.000229</td>\n",
       "      <td>0.04467</td>\n",
       "      <td>0.000000</td>\n",
       "    </tr>\n",
       "  </tbody>\n",
       "</table>\n",
       "<p>5 rows × 33 columns</p>\n",
       "</div>"
      ],
      "text/plain": [
       "     mean_fit_time  mean_score_time  mean_test_score  mean_train_score  \\\n",
       "246       1.839278         0.001893         0.942029          1.000000   \n",
       "12        0.071554         0.001438         0.927536          0.978312   \n",
       "26        0.070669         0.001475         0.927536          0.978247   \n",
       "25        0.070634         0.001356         0.927536          0.981883   \n",
       "261       0.638752         0.001593         0.927536          1.000000   \n",
       "\n",
       "                                        param_classify  \\\n",
       "246  MLPClassifier(activation='logistic', alpha=0.0...   \n",
       "12   KNeighborsClassifier(algorithm='auto', leaf_si...   \n",
       "26   KNeighborsClassifier(algorithm='auto', leaf_si...   \n",
       "25   KNeighborsClassifier(algorithm='auto', leaf_si...   \n",
       "261  MLPClassifier(activation='logistic', alpha=0.0...   \n",
       "\n",
       "    param_classify__activation param_classify__alpha  \\\n",
       "246                   logistic                  0.05   \n",
       "12                         NaN                   NaN   \n",
       "26                         NaN                   NaN   \n",
       "25                         NaN                   NaN   \n",
       "261                   logistic                  0.01   \n",
       "\n",
       "    param_classify__criterion param_classify__hidden_layer_sizes  \\\n",
       "246                       NaN                             (128,)   \n",
       "12                        NaN                                NaN   \n",
       "26                        NaN                                NaN   \n",
       "25                        NaN                                NaN   \n",
       "261                       NaN                              (64,)   \n",
       "\n",
       "    param_classify__max_depth       ...        split2_test_score  \\\n",
       "246                       NaN       ...                 0.928571   \n",
       "12                        NaN       ...                 0.928571   \n",
       "26                        NaN       ...                 0.928571   \n",
       "25                        NaN       ...                 0.928571   \n",
       "261                       NaN       ...                 0.928571   \n",
       "\n",
       "    split2_train_score split3_test_score split3_train_score split4_test_score  \\\n",
       "246           1.000000          0.928571           1.000000               1.0   \n",
       "12            0.981818          0.928571           0.981818               1.0   \n",
       "26            0.981818          0.928571           0.981818               1.0   \n",
       "25            0.981818          0.928571           1.000000               1.0   \n",
       "261           1.000000          0.928571           1.000000               1.0   \n",
       "\n",
       "    split4_train_score std_fit_time std_score_time  std_test_score  \\\n",
       "246           1.000000     0.040034       0.000047         0.05339   \n",
       "12            0.964286     0.000992       0.000045         0.04467   \n",
       "26            0.982143     0.000956       0.000058         0.04467   \n",
       "25            0.982143     0.000760       0.000020         0.04467   \n",
       "261           1.000000     0.012281       0.000229         0.04467   \n",
       "\n",
       "     std_train_score  \n",
       "246         0.000000  \n",
       "12          0.007013  \n",
       "26          0.007306  \n",
       "25          0.011500  \n",
       "261         0.000000  \n",
       "\n",
       "[5 rows x 33 columns]"
      ]
     },
     "execution_count": 17,
     "metadata": {
      "tags": []
     },
     "output_type": "execute_result"
    }
   ],
   "source": [
    "results.sort_values(by='mean_test_score', ascending=False).head()"
   ]
  },
  {
   "cell_type": "code",
   "execution_count": 18,
   "metadata": {
    "colab": {
     "base_uri": "https://localhost:8080/",
     "height": 125
    },
    "colab_type": "code",
    "id": "5YEF4kwOubDp",
    "outputId": "6dd1d7b2-02d4-4696-e235-f1d31b77ebf2"
   },
   "outputs": [
    {
     "data": {
      "text/plain": [
       "Pipeline(memory='/tmp/tmphx_aoffq',\n",
       "     steps=[('featureSelection', TtestScoreSelection(w=15)), ('classify', MLPClassifier(activation='logistic', alpha=0.05, batch_size='auto',\n",
       "       beta_1=0.9, beta_2=0.999, early_stopping=False, epsilon=1e-08,\n",
       "       hidden_layer_sizes=(128,), learning_rate='constant',\n",
       "       learning_rate_init=0.001, ...=True, solver='lbfgs', tol=0.0001, validation_fraction=0.1,\n",
       "       verbose=True, warm_start=False))])"
      ]
     },
     "execution_count": 18,
     "metadata": {
      "tags": []
     },
     "output_type": "execute_result"
    }
   ],
   "source": [
    "model.best_estimator_"
   ]
  },
  {
   "cell_type": "markdown",
   "metadata": {
    "colab_type": "text",
    "id": "0onOZpScJhMX"
   },
   "source": [
    "Considering the overall accuracy(not always the metric to consider), the best model we have is a multilayer perceptron with one hidden layer of 128 neurons\n",
    "\n",
    "## Test\n",
    "\n",
    "We now make the predictions for the test set, using the best model fitted with all training data."
   ]
  },
  {
   "cell_type": "code",
   "execution_count": 0,
   "metadata": {
    "colab": {},
    "colab_type": "code",
    "id": "2vo-t0E9upVR"
   },
   "outputs": [],
   "source": [
    "testSet = pd.read_csv('https://raw.githubusercontent.com/ojon/MD_Proj/master/pp5i_test.gr.csv')"
   ]
  },
  {
   "cell_type": "code",
   "execution_count": 0,
   "metadata": {
    "colab": {},
    "colab_type": "code",
    "id": "Lsy8wKGyR22P"
   },
   "outputs": [],
   "source": [
    "testSet.set_index('SNO', inplace=True)\n",
    "testX = testSet.transpose()\n",
    "testX.reset_index(drop=True, inplace=True)"
   ]
  },
  {
   "cell_type": "code",
   "execution_count": 0,
   "metadata": {
    "colab": {},
    "colab_type": "code",
    "id": "bGabOWsvLQm1"
   },
   "outputs": [],
   "source": [
    "finalResult = pd.DataFrame()\n",
    "finalResult['predicted'] = model.predict(testX)"
   ]
  },
  {
   "cell_type": "code",
   "execution_count": 22,
   "metadata": {
    "colab": {
     "base_uri": "https://localhost:8080/",
     "height": 762
    },
    "colab_type": "code",
    "id": "waXSr3n_Rzll",
    "outputId": "e4f08dd1-2b82-46ab-af73-a7d3e2ceb993"
   },
   "outputs": [
    {
     "data": {
      "text/html": [
       "<div>\n",
       "<style scoped>\n",
       "    .dataframe tbody tr th:only-of-type {\n",
       "        vertical-align: middle;\n",
       "    }\n",
       "\n",
       "    .dataframe tbody tr th {\n",
       "        vertical-align: top;\n",
       "    }\n",
       "\n",
       "    .dataframe thead th {\n",
       "        text-align: right;\n",
       "    }\n",
       "</style>\n",
       "<table border=\"1\" class=\"dataframe\">\n",
       "  <thead>\n",
       "    <tr style=\"text-align: right;\">\n",
       "      <th></th>\n",
       "      <th>predicted</th>\n",
       "    </tr>\n",
       "  </thead>\n",
       "  <tbody>\n",
       "    <tr>\n",
       "      <th>0</th>\n",
       "      <td>MGL</td>\n",
       "    </tr>\n",
       "    <tr>\n",
       "      <th>1</th>\n",
       "      <td>MED</td>\n",
       "    </tr>\n",
       "    <tr>\n",
       "      <th>2</th>\n",
       "      <td>RHB</td>\n",
       "    </tr>\n",
       "    <tr>\n",
       "      <th>3</th>\n",
       "      <td>MED</td>\n",
       "    </tr>\n",
       "    <tr>\n",
       "      <th>4</th>\n",
       "      <td>EPD</td>\n",
       "    </tr>\n",
       "    <tr>\n",
       "      <th>5</th>\n",
       "      <td>RHB</td>\n",
       "    </tr>\n",
       "    <tr>\n",
       "      <th>6</th>\n",
       "      <td>MED</td>\n",
       "    </tr>\n",
       "    <tr>\n",
       "      <th>7</th>\n",
       "      <td>MED</td>\n",
       "    </tr>\n",
       "    <tr>\n",
       "      <th>8</th>\n",
       "      <td>MED</td>\n",
       "    </tr>\n",
       "    <tr>\n",
       "      <th>9</th>\n",
       "      <td>MED</td>\n",
       "    </tr>\n",
       "    <tr>\n",
       "      <th>10</th>\n",
       "      <td>MED</td>\n",
       "    </tr>\n",
       "    <tr>\n",
       "      <th>11</th>\n",
       "      <td>EPD</td>\n",
       "    </tr>\n",
       "    <tr>\n",
       "      <th>12</th>\n",
       "      <td>MED</td>\n",
       "    </tr>\n",
       "    <tr>\n",
       "      <th>13</th>\n",
       "      <td>MED</td>\n",
       "    </tr>\n",
       "    <tr>\n",
       "      <th>14</th>\n",
       "      <td>RHB</td>\n",
       "    </tr>\n",
       "    <tr>\n",
       "      <th>15</th>\n",
       "      <td>MED</td>\n",
       "    </tr>\n",
       "    <tr>\n",
       "      <th>16</th>\n",
       "      <td>MED</td>\n",
       "    </tr>\n",
       "    <tr>\n",
       "      <th>17</th>\n",
       "      <td>MED</td>\n",
       "    </tr>\n",
       "    <tr>\n",
       "      <th>18</th>\n",
       "      <td>MED</td>\n",
       "    </tr>\n",
       "    <tr>\n",
       "      <th>19</th>\n",
       "      <td>MED</td>\n",
       "    </tr>\n",
       "    <tr>\n",
       "      <th>20</th>\n",
       "      <td>MED</td>\n",
       "    </tr>\n",
       "    <tr>\n",
       "      <th>21</th>\n",
       "      <td>RHB</td>\n",
       "    </tr>\n",
       "    <tr>\n",
       "      <th>22</th>\n",
       "      <td>MED</td>\n",
       "    </tr>\n",
       "  </tbody>\n",
       "</table>\n",
       "</div>"
      ],
      "text/plain": [
       "   predicted\n",
       "0        MGL\n",
       "1        MED\n",
       "2        RHB\n",
       "3        MED\n",
       "4        EPD\n",
       "5        RHB\n",
       "6        MED\n",
       "7        MED\n",
       "8        MED\n",
       "9        MED\n",
       "10       MED\n",
       "11       EPD\n",
       "12       MED\n",
       "13       MED\n",
       "14       RHB\n",
       "15       MED\n",
       "16       MED\n",
       "17       MED\n",
       "18       MED\n",
       "19       MED\n",
       "20       MED\n",
       "21       RHB\n",
       "22       MED"
      ]
     },
     "execution_count": 22,
     "metadata": {
      "tags": []
     },
     "output_type": "execute_result"
    }
   ],
   "source": [
    "\n",
    "finalResult"
   ]
  }
 ],
 "metadata": {
  "colab": {
   "collapsed_sections": [],
   "name": "microarrayDiseasesKDnuggets.ipynb",
   "provenance": [],
   "toc_visible": true,
   "version": "0.3.2"
  },
  "kernelspec": {
   "display_name": "Python 3",
   "language": "python",
   "name": "python3"
  },
  "language_info": {
   "codemirror_mode": {
    "name": "ipython",
    "version": 3
   },
   "file_extension": ".py",
   "mimetype": "text/x-python",
   "name": "python",
   "nbconvert_exporter": "python",
   "pygments_lexer": "ipython3",
   "version": "3.6.6"
  },
  "varInspector": {
   "cols": {
    "lenName": "32",
    "lenType": "32",
    "lenVar": 40
   },
   "kernels_config": {
    "python": {
     "delete_cmd_postfix": "",
     "delete_cmd_prefix": "del ",
     "library": "var_list.py",
     "varRefreshCmd": "print(var_dic_list())"
    },
    "r": {
     "delete_cmd_postfix": ") ",
     "delete_cmd_prefix": "rm(",
     "library": "var_list.r",
     "varRefreshCmd": "cat(var_dic_list()) "
    }
   },
   "types_to_exclude": [
    "module",
    "function",
    "builtin_function_or_method",
    "instance",
    "_Feature"
   ],
   "window_display": true
  }
 },
 "nbformat": 4,
 "nbformat_minor": 1
}
