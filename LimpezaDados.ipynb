{
 "metadata": {
  "name": "",
  "signature": "sha256:810a973f664bf1902f1913d1f40d9bceb77927f3756d7aed186c6889a79db917"
 },
 "nbformat": 3,
 "nbformat_minor": 0,
 "worksheets": [
  {
   "cells": [
    {
     "cell_type": "markdown",
     "metadata": {},
     "source": [
      "##Limpeza dos dados"
     ]
    },
    {
     "cell_type": "code",
     "collapsed": false,
     "input": [
      "import numpy as np\n",
      "import pandas as pd"
     ],
     "language": "python",
     "metadata": {},
     "outputs": [],
     "prompt_number": 1
    },
    {
     "cell_type": "markdown",
     "metadata": {},
     "source": [
      "Lemos o arquivos e criamos um dataframe sem a coluna das classes para tratar os dados"
     ]
    },
    {
     "cell_type": "code",
     "collapsed": false,
     "input": [
      "df = pd.read_csv('./train.csv');\n",
      "genesExp = df[df.columns[:-1]]"
     ],
     "language": "python",
     "metadata": {},
     "outputs": [],
     "prompt_number": 2
    },
    {
     "cell_type": "markdown",
     "metadata": {},
     "source": [
      "Inicialmente substituimos valores menores que 20 por 20 e maiores que 16000 por 16000"
     ]
    },
    {
     "cell_type": "code",
     "collapsed": false,
     "input": [
      "genesExpThreshold = genesExp.clip(upper=16000, lower=20)"
     ],
     "language": "python",
     "metadata": {},
     "outputs": [],
     "prompt_number": 3
    },
    {
     "cell_type": "raw",
     "metadata": {},
     "source": [
      "Agora ficamos apenas com genes cuja amplitude de varia\u00e7\u00e3o da express\u00e3o genica seja maior que 2"
     ]
    },
    {
     "cell_type": "code",
     "collapsed": false,
     "input": [
      "genesExpFoldDiff = genesExpThreshold.loc[:,(genesExpThreshold.max(axis=0) - genesExpThreshold.min(axis=0)) > 2]"
     ],
     "language": "python",
     "metadata": {},
     "outputs": [],
     "prompt_number": 4
    },
    {
     "cell_type": "markdown",
     "metadata": {},
     "source": [
      "apos o tratamento, voltamos a adionar a coluna com as classes"
     ]
    },
    {
     "cell_type": "code",
     "collapsed": false,
     "input": [
      "genesExpFoldDiff['Class'] = df['Class']"
     ],
     "language": "python",
     "metadata": {},
     "outputs": [],
     "prompt_number": 5
    },
    {
     "cell_type": "markdown",
     "metadata": {},
     "source": [
      "Salvamos o resultado em um novo .csv train_limpos.csv"
     ]
    },
    {
     "cell_type": "code",
     "collapsed": false,
     "input": [
      "genesExpFoldDiff.to_csv('train_Limpos.csv', index=False)"
     ],
     "language": "python",
     "metadata": {},
     "outputs": [],
     "prompt_number": 6
    },
    {
     "cell_type": "code",
     "collapsed": false,
     "input": [],
     "language": "python",
     "metadata": {},
     "outputs": []
    }
   ],
   "metadata": {}
  }
 ]
}