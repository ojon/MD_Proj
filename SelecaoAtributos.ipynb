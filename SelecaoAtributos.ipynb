{
 "metadata": {
  "name": "",
  "signature": "sha256:31569e9aadbb227b09d25a34b060e98618c2049fdc4ac52e6628c5ad5b2ed5f9"
 },
 "nbformat": 3,
 "nbformat_minor": 0,
 "worksheets": [
  {
   "cells": [
    {
     "cell_type": "markdown",
     "metadata": {},
     "source": [
      "##Sele\u00e7\u00e3o de Atributos"
     ]
    },
    {
     "cell_type": "code",
     "collapsed": false,
     "input": [
      "import numpy as np\n",
      "import pandas as pd\n",
      "import scipy.stats as st"
     ],
     "language": "python",
     "metadata": {},
     "outputs": [],
     "prompt_number": 1
    },
    {
     "cell_type": "markdown",
     "metadata": {},
     "source": [
      "primeiro lemos os dados e pegamos a lista de classes"
     ]
    },
    {
     "cell_type": "code",
     "collapsed": true,
     "input": [
      "dadosLimpos = pd.read_csv('./train_Limpos.csv');\n",
      "genes = dadosLimpos.columns[:-1]\n",
      "classes = pd.Series(dadosLimpos['Class'].values.ravel()).unique()"
     ],
     "language": "python",
     "metadata": {},
     "outputs": [],
     "prompt_number": 2
    },
    {
     "cell_type": "markdown",
     "metadata": {},
     "source": [
      "Agora calculamos o t-valor para cada gene.\n",
      "O t-valor \u00e9 calculado como: \n",
      "\n",
      "$$tvalor = \\frac{Avg_1 - Avg_2}{\\sqrt{\\frac{\\sigma_1}{N_1} + \\frac{\\sigma_2}{N_2}}}$$"
     ]
    },
    {
     "cell_type": "markdown",
     "metadata": {},
     "source": [
      "Onde a $amostra_1$ \u00e9 o conjunto de valores de expressao genica para uma determinada classe e a $amostra_2$ s\u00e3o os valores para as outras classes.\n",
      "\n",
      "A para o calculo do t-valor utilizamos uma fun\u00e7\u00e3o j\u00e1 implementada na biblioteca *scipy.stats*"
     ]
    },
    {
     "cell_type": "code",
     "collapsed": false,
     "input": [
      "genesTvalues = {}\n",
      "for classe in classes:\n",
      "    tgenes = []\n",
      "    for gene in genes:\n",
      "        sample1 = dadosLimpos[dadosLimpos['Class'] == classe][gene]\n",
      "        sample2 = dadosLimpos[dadosLimpos['Class'] != classe][gene]\n",
      "        t = st.ttest_ind(sample1,sample2,equal_var=False)\n",
      "        tgenes.append(t[0])\n",
      "    genesTvalues[classe] = pd.Series(tgenes,index=genes)\n",
      "genesTvaluesDf = pd.DataFrame(genesTvalues)"
     ],
     "language": "python",
     "metadata": {},
     "outputs": []
    },
    {
     "cell_type": "markdown",
     "metadata": {},
     "source": [
      "Como resultado temos uma tabela, vamos observar os primeiros 5 itens:"
     ]
    },
    {
     "cell_type": "code",
     "collapsed": false,
     "input": [
      "genesTvaluesDf[:5]"
     ],
     "language": "python",
     "metadata": {},
     "outputs": []
    },
    {
     "cell_type": "code",
     "collapsed": false,
     "input": [
      "len(genesTvaluesDf.index)"
     ],
     "language": "python",
     "metadata": {},
     "outputs": []
    },
    {
     "cell_type": "markdown",
     "metadata": {},
     "source": [
      "Agora vamos construir subconjuntos de atributos baseados nos maiores valores de t-valor. olhando para cada uma das classes pegamos os genes que possuem os N maiores t-valores, em seguida fazemos a uni\u00e3o destes conjuntos de genes formando um subconjunto dos atuais 6746 genes. Para cada valor de N geramos um .csv no formato train_topN.csv"
     ]
    },
    {
     "cell_type": "code",
     "collapsed": false,
     "input": [
      "nSizes = [2,4,6,8,10,12,20,25,30]"
     ],
     "language": "python",
     "metadata": {},
     "outputs": []
    },
    {
     "cell_type": "code",
     "collapsed": false,
     "input": [
      "for N in nSizes:   \n",
      "    topMED = genesTvaluesDf.sort('MED', ascending=False).index[:N]\n",
      "    topMGL = genesTvaluesDf.sort('MGL', ascending=False).index[:N]\n",
      "    topRHB = genesTvaluesDf.sort('RHB', ascending=False).index[:N]\n",
      "    topEPD = genesTvaluesDf.sort('EPD', ascending=False).index[:N]\n",
      "    topJPA = genesTvaluesDf.sort('JPA', ascending=False).index[:N]\n",
      "    \n",
      "    topGenes = list(set(topMED) | set(topMGL) | set(topRHB) | set(topEPD) | set(topJPA))\n",
      "    topGenes.append('Class')\n",
      "    \n",
      "    trainTopN = dadosLimpos[topGenes]\n",
      "    \n",
      "    trainTopN.to_csv('train_top' + str(N) + '.csv', index=False)\n",
      "    "
     ],
     "language": "python",
     "metadata": {},
     "outputs": []
    },
    {
     "cell_type": "markdown",
     "metadata": {},
     "source": [
      "vamos observar agora os genes selecionados para N=2:"
     ]
    },
    {
     "cell_type": "code",
     "collapsed": false,
     "input": [
      "top2 = pd.read_csv('./train_top2.csv')\n",
      "top2"
     ],
     "language": "python",
     "metadata": {},
     "outputs": []
    },
    {
     "cell_type": "code",
     "collapsed": false,
     "input": [],
     "language": "python",
     "metadata": {},
     "outputs": []
    }
   ],
   "metadata": {}
  }
 ]
}